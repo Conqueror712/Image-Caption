{
 "cells": [
  {
   "cell_type": "markdown",
   "metadata": {},
   "source": [
    "我们首先使用 argparse 库解析命令行参数，获取图像路径、模型版本和 Checkpoint 路径；其次根据命令行参数加载预训练模型，或者从 Checkpoint 加载模型（可选）；紧接着使用 PIL 库打开图像，并进行预处理；然后使用模型生成图像的描述；最后使用 METEOR 和 ROUGE-L 评估生成的描述与参考描述的相似度。"
   ]
  },
  {
   "cell_type": "code",
   "execution_count": null,
   "metadata": {},
   "outputs": [],
   "source": [
    "import json\n",
    "import torch\n",
    "from torch.utils.data import Dataset, DataLoader\n",
    "from torchvision import transforms\n",
    "from transformers import BertTokenizer\n",
    "from PIL import Image\n",
    "from models import caption\n",
    "from configuration import Config\n",
    "\n",
    "# 数据集类\n",
    "class MyDataset(Dataset):\n",
    "    def __init__(self, json_file, img_dir, transform=None):\n",
    "        with open(json_file, 'r') as f:\n",
    "            self.data = json.load(f)\n",
    "        self.img_dir = img_dir\n",
    "        self.transform = transform\n",
    "        self.filenames = list(self.data.keys())\n",
    "\n",
    "    def __len__(self):\n",
    "        return len(self.data)\n",
    "\n",
    "    def __getitem__(self, idx):\n",
    "        filename = self.filenames[idx]\n",
    "        caption = self.data[filename]\n",
    "        image = Image.open(f\"{self.img_dir}/{filename}\")\n",
    "        if self.transform:\n",
    "            image = self.transform(image)\n",
    "        return image, caption"
   ]
  },
  {
   "cell_type": "markdown",
   "metadata": {},
   "source": [
    "导入必要的库：这段代码首先导入了一些必要的库，包括json（用于处理JSON文件），torch（PyTorch库，用于深度学习），Dataset和DataLoader（PyTorch中的数据加载工具），transforms（torchvision库中的图像预处理工具），BertTokenizer（transformers库中的BERT模型的分词器），Image（PIL库中的图像处理工具），以及caption和Config（用户自定义的模块）。\n",
    "\n",
    "定义数据集类：定义了一个名为MyDataset的类，这个类继承自PyTorch的Dataset基类。\n",
    "\n",
    "初始化方法：在__init__方法中，这个类接受一个JSON文件的路径、一个图像目录的路径和一个可选的图像转换函数。JSON文件中应该包含图像文件名和对应的标题。这个方法首先读取JSON文件并将其内容保存在self.data中，然后保存图像目录的路径和图像转换函数。最后，它从self.data中提取所有的文件名并保存在self.filenames中。\n",
    "\n",
    "长度方法：__len__方法返回数据集中的样本数量，这是通过返回self.data的长度来实现的。\n",
    "\n",
    "获取项方法：__getitem__方法接受一个索引idx，并返回对应的图像和标题。它首先从self.filenames中获取文件名，然后从self.data中获取对应的标题。接着，它打开对应的图像文件，并如果提供了图像转换函数，就对图像进行转换。最后，它返回图像和标题。"
   ]
  },
  {
   "cell_type": "code",
   "execution_count": null,
   "metadata": {},
   "outputs": [],
   "source": [
    "# 检查是否有可用的GPU\n",
    "device = torch.device('cuda' if torch.cuda.is_available() else 'cpu')\n",
    "\n",
    "# 加载模型\n",
    "config = Config()\n",
    "model = torch.hub.load('saahiluppal/catr', 'v3', pretrained=True)\n",
    "model = model.to(device)  # 将模型移动到指定的设备上\n",
    "tokenizer = BertTokenizer.from_pretrained('bert-base-uncased')\n",
    "\n",
    "# 准备数据集\n",
    "transform = transforms.Compose([\n",
    "    transforms.ToTensor(),\n",
    "    transforms.Normalize(mean=[0.485, 0.456, 0.406], std=[0.229, 0.224, 0.225]),\n",
    "])\n",
    "\n",
    "train_dataset = MyDataset('../data/train_captions.json', '../data/train_images', transform=transform)\n",
    "train_dataloader = DataLoader(train_dataset, batch_size=16, shuffle=True)"
   ]
  },
  {
   "cell_type": "markdown",
   "metadata": {},
   "source": [
    "检查并设置设备：首先，代码检查是否有可用的GPU（图形处理器），如果有，就使用GPU，否则使用CPU。这是通过torch.device函数实现的，这个函数接受一个字符串参数，指定要使用的设备。如果torch.cuda.is_available()返回True，则使用字符串'cuda'，否则使用字符串'cpu'。这个设备对象被保存在变量device中，以便后续使用。\n",
    "\n",
    "加载模型：然后，代码创建了一个Config对象（这是在前面的代码中定义的一个类），并将其保存在变量config中。接着，它使用torch.hub.load函数从torch.hub（一个预训练模型的仓库）加载一个模型。这个函数接受三个参数：模型的仓库名（在这里是'saahiluppal/catr'），模型的版本（在这里是'v3'），以及一个布尔值，指定是否要加载预训练的权重（在这里是True）。加载的模型被保存在变量model中。然后，模型被移动到前面指定的设备上，这是通过调用模型的to方法并传入设备对象实现的。最后，代码使用BertTokenizer.from_pretrained方法加载了一个预训练的BERT分词器，并将其保存在变量tokenizer中。\n",
    "\n",
    "准备数据集：代码首先定义了一个图像转换函数，这是通过transforms.Compose函数实现的，这个函数接受一个转换函数的列表，并返回一个新的转换函数，这个新的转换函数会按照列表中的顺序依次应用这些转换函数。在这里，转换函数的列表包含两个函数：transforms.ToTensor（将图像转换为PyTorch张量）和transforms.Normalize（对图像进行标准化）。然后，代码创建了一个MyDataset对象（这是在前面的代码中定义的一个类），并将其保存在变量train_dataset中。这个对象接受三个参数：一个JSON文件的路径（包含训练集的标题），一个图像目录的路径（包含训练集的图像），以及前面定义的图像转换函数。最后，代码创建了一个DataLoader对象，并将其保存在变量train_dataloader中。这个对象接受三个参数：一个数据集对象，一个批量大小（在这里是16），以及一个布尔值，指定是否要在每个训练周期开始时打乱数据集。"
   ]
  },
  {
   "cell_type": "code",
   "execution_count": null,
   "metadata": {},
   "outputs": [],
   "source": [
    "# 定义损失函数和优化器\n",
    "criterion = torch.nn.CrossEntropyLoss()\n",
    "optimizer = torch.optim.Adam(model.parameters())\n",
    "\n",
    "# 训练循环\n",
    "num_epochs = 10\n",
    "for epoch in range(num_epochs):\n",
    "    for images, captions in train_dataloader:\n",
    "        images = images.to(device)  # 将图像数据移动到指定的设备上\n",
    "        captions = tokenizer(captions, return_tensors='pt', padding=True, truncation=True)\n",
    "        captions = {key: val.to(device) for key, val in captions.items()}  # 将caption数据移动到指定的设备上\n",
    "\n",
    "        outputs = model(images, captions['input_ids'], captions['attention_mask'])\n",
    "        loss = criterion(outputs.logits.view(-1, outputs.logits.size(-1)), captions['input_ids'].view(-1))\n",
    "\n",
    "        optimizer.zero_grad()\n",
    "        loss.backward()\n",
    "        optimizer.step()\n",
    "\n",
    "    print(f'Epoch {epoch+1}/{num_epochs}, Loss: {loss.item()}')\n",
    "\n",
    "# 保存模型\n",
    "torch.save(model.state_dict(), 'Model2.pth')"
   ]
  },
  {
   "cell_type": "markdown",
   "metadata": {},
   "source": [
    "定义损失函数和优化器：首先，代码定义了一个交叉熵损失函数（torch.nn.CrossEntropyLoss()），并将其保存在变量criterion中。然后，它定义了一个Adam优化器（torch.optim.Adam(model.parameters())），并将其保存在变量optimizer中。这个优化器接受模型的参数作为输入。\n",
    "\n",
    "训练循环：代码定义了一个训练循环，这个循环将运行指定的周期数（在这里是10）。在每个周期中，代码遍历训练数据加载器train_dataloader，对于每一批图像和标题，它首先将图像数据移动到前面指定的设备上，然后使用BERT分词器对标题进行分词，并将返回的张量数据也移动到指定的设备上。接着，它将图像和标题数据传入模型，得到模型的输出，然后使用损失函数计算损失。然后，它将优化器的梯度清零，计算损失的反向传播，然后更新优化器的参数。最后，它打印出当前的周期数和损失值。\n",
    "\n",
    "保存模型：在训练循环结束后，代码使用torch.save函数保存模型的状态字典。这个函数接受两个参数：要保存的对象（在这里是模型的状态字典）和保存的文件名（在这里是'Model2.pth'）。这样，训练好的模型就被保存下来，以便后续使用。"
   ]
  }
 ],
 "metadata": {
  "language_info": {
   "name": "python"
  }
 },
 "nbformat": 4,
 "nbformat_minor": 2
}
